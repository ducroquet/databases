{
 "cells": [
  {
   "cell_type": "code",
   "execution_count": 134,
   "metadata": {},
   "outputs": [],
   "source": [
    "import numpy as np\n",
    "import pandas as pd\n",
    "import matplotlib.pyplot as plt\n",
    "\n",
    "%matplotlib inline"
   ]
  },
  {
   "cell_type": "code",
   "execution_count": 135,
   "metadata": {},
   "outputs": [],
   "source": [
    "covid_df_raw = pd.read_csv('ultimas_atualizacoes.csv', dtype={'codigo_ibge':np.str})\n"
   ]
  },
  {
   "cell_type": "code",
   "execution_count": 136,
   "metadata": {},
   "outputs": [],
   "source": [
    "frigorificos_df_raw = pd.read_csv('frigorificos.csv')"
   ]
  },
  {
   "cell_type": "code",
   "execution_count": 137,
   "metadata": {},
   "outputs": [],
   "source": [
    "frigorificos_df_raw = frigorificos_df_raw.replace('sim',1)"
   ]
  },
  {
   "cell_type": "code",
   "execution_count": 138,
   "metadata": {},
   "outputs": [],
   "source": [
    "frigorificos_df_raw['nome_com_uf'] = frigorificos_df_raw['city']"
   ]
  },
  {
   "cell_type": "code",
   "execution_count": 139,
   "metadata": {},
   "outputs": [],
   "source": [
    "frigorificos_df_raw = frigorificos_df_raw.groupby(['nome_com_uf']).sum()"
   ]
  },
  {
   "cell_type": "code",
   "execution_count": 140,
   "metadata": {},
   "outputs": [
    {
     "output_type": "execute_result",
     "data": {
      "text/plain": "                            frigorifico\nnome_com_uf                            \nABELARDO LUZ (SC)                     1\nAGUIARNÓPOLIS (TO)                    1\nALEGRETE (RS)                         1\nALTA FLORESTA (MT)                    1\nALTA FLORESTA D'OESTE (RO)            1",
      "text/html": "<div>\n<style scoped>\n    .dataframe tbody tr th:only-of-type {\n        vertical-align: middle;\n    }\n\n    .dataframe tbody tr th {\n        vertical-align: top;\n    }\n\n    .dataframe thead th {\n        text-align: right;\n    }\n</style>\n<table border=\"1\" class=\"dataframe\">\n  <thead>\n    <tr style=\"text-align: right;\">\n      <th></th>\n      <th>frigorifico</th>\n    </tr>\n    <tr>\n      <th>nome_com_uf</th>\n      <th></th>\n    </tr>\n  </thead>\n  <tbody>\n    <tr>\n      <th>ABELARDO LUZ (SC)</th>\n      <td>1</td>\n    </tr>\n    <tr>\n      <th>AGUIARNÓPOLIS (TO)</th>\n      <td>1</td>\n    </tr>\n    <tr>\n      <th>ALEGRETE (RS)</th>\n      <td>1</td>\n    </tr>\n    <tr>\n      <th>ALTA FLORESTA (MT)</th>\n      <td>1</td>\n    </tr>\n    <tr>\n      <th>ALTA FLORESTA D'OESTE (RO)</th>\n      <td>1</td>\n    </tr>\n  </tbody>\n</table>\n</div>"
     },
     "metadata": {},
     "execution_count": 140
    }
   ],
   "source": [
    "frigorificos_df_raw.head()"
   ]
  },
  {
   "cell_type": "code",
   "execution_count": 141,
   "metadata": {},
   "outputs": [
    {
     "output_type": "execute_result",
     "data": {
      "text/plain": "         date  cases  deaths  casesNew  deathsNew  casesPer100K  \\\n0  2020-06-18     59       0         5          0    257.136631   \n1  2020-06-18    817      14         0          1    757.442311   \n2  2020-06-18      3       0         0          0     56.475904   \n3  2020-06-18    191       2         0          0    223.760822   \n4  2020-06-18     24       2         6          0    147.031796   \n\n   deathsPer100K  dias codigo_ibge                        nome  \\\n0       0.000000  48.0      110001  Alta Floresta D'Oeste (RO)   \n1      12.979428  70.0      110002              Ariquemes (RO)   \n2       0.000000  15.0      110003                 Cabixi (RO)   \n3       2.343045  50.0      110004                 Cacoal (RO)   \n4      12.252650  27.0      110005             Cerejeiras (RO)   \n\n                  nome_com_uf  \n0  ALTA FLORESTA D'OESTE (RO)  \n1              ARIQUEMES (RO)  \n2                 CABIXI (RO)  \n3                 CACOAL (RO)  \n4             CEREJEIRAS (RO)  ",
      "text/html": "<div>\n<style scoped>\n    .dataframe tbody tr th:only-of-type {\n        vertical-align: middle;\n    }\n\n    .dataframe tbody tr th {\n        vertical-align: top;\n    }\n\n    .dataframe thead th {\n        text-align: right;\n    }\n</style>\n<table border=\"1\" class=\"dataframe\">\n  <thead>\n    <tr style=\"text-align: right;\">\n      <th></th>\n      <th>date</th>\n      <th>cases</th>\n      <th>deaths</th>\n      <th>casesNew</th>\n      <th>deathsNew</th>\n      <th>casesPer100K</th>\n      <th>deathsPer100K</th>\n      <th>dias</th>\n      <th>codigo_ibge</th>\n      <th>nome</th>\n      <th>nome_com_uf</th>\n    </tr>\n  </thead>\n  <tbody>\n    <tr>\n      <th>0</th>\n      <td>2020-06-18</td>\n      <td>59</td>\n      <td>0</td>\n      <td>5</td>\n      <td>0</td>\n      <td>257.136631</td>\n      <td>0.000000</td>\n      <td>48.0</td>\n      <td>110001</td>\n      <td>Alta Floresta D'Oeste (RO)</td>\n      <td>ALTA FLORESTA D'OESTE (RO)</td>\n    </tr>\n    <tr>\n      <th>1</th>\n      <td>2020-06-18</td>\n      <td>817</td>\n      <td>14</td>\n      <td>0</td>\n      <td>1</td>\n      <td>757.442311</td>\n      <td>12.979428</td>\n      <td>70.0</td>\n      <td>110002</td>\n      <td>Ariquemes (RO)</td>\n      <td>ARIQUEMES (RO)</td>\n    </tr>\n    <tr>\n      <th>2</th>\n      <td>2020-06-18</td>\n      <td>3</td>\n      <td>0</td>\n      <td>0</td>\n      <td>0</td>\n      <td>56.475904</td>\n      <td>0.000000</td>\n      <td>15.0</td>\n      <td>110003</td>\n      <td>Cabixi (RO)</td>\n      <td>CABIXI (RO)</td>\n    </tr>\n    <tr>\n      <th>3</th>\n      <td>2020-06-18</td>\n      <td>191</td>\n      <td>2</td>\n      <td>0</td>\n      <td>0</td>\n      <td>223.760822</td>\n      <td>2.343045</td>\n      <td>50.0</td>\n      <td>110004</td>\n      <td>Cacoal (RO)</td>\n      <td>CACOAL (RO)</td>\n    </tr>\n    <tr>\n      <th>4</th>\n      <td>2020-06-18</td>\n      <td>24</td>\n      <td>2</td>\n      <td>6</td>\n      <td>0</td>\n      <td>147.031796</td>\n      <td>12.252650</td>\n      <td>27.0</td>\n      <td>110005</td>\n      <td>Cerejeiras (RO)</td>\n      <td>CEREJEIRAS (RO)</td>\n    </tr>\n  </tbody>\n</table>\n</div>"
     },
     "metadata": {},
     "execution_count": 141
    }
   ],
   "source": [
    "covid_df_raw.head()"
   ]
  },
  {
   "cell_type": "code",
   "execution_count": 142,
   "metadata": {},
   "outputs": [],
   "source": [
    "ultimas_atualizacoes = pd.merge(covid_df_raw, frigorificos_df_raw, on='nome_com_uf', how='outer')"
   ]
  },
  {
   "cell_type": "code",
   "execution_count": 145,
   "metadata": {},
   "outputs": [],
   "source": [
    "ultimas_atualizacoes.replace(np.nan, 0, inplace=True)"
   ]
  },
  {
   "cell_type": "code",
   "execution_count": 146,
   "metadata": {},
   "outputs": [],
   "source": [
    "ultimas_atualizacoes.to_csv('ultimas_atualizacoes_com_frigorifico.csv')"
   ]
  },
  {
   "cell_type": "code",
   "execution_count": null,
   "metadata": {},
   "outputs": [],
   "source": []
  },
  {
   "cell_type": "code",
   "execution_count": null,
   "metadata": {},
   "outputs": [],
   "source": []
  }
 ],
 "metadata": {
  "kernelspec": {
   "display_name": "Python 3.7.6 64-bit ('base': conda)",
   "language": "python",
   "name": "python37664bitbasecondab02bd75ca0054d029e83b40a265cdf88"
  },
  "language_info": {
   "codemirror_mode": {
    "name": "ipython",
    "version": 3
   },
   "file_extension": ".py",
   "mimetype": "text/x-python",
   "name": "python",
   "nbconvert_exporter": "python",
   "pygments_lexer": "ipython3",
   "version": "3.7.6-final"
  }
 },
 "nbformat": 4,
 "nbformat_minor": 4
}